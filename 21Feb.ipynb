{
 "cells": [
  {
   "cell_type": "code",
   "execution_count": null,
   "id": "1ff4d115-8171-4c69-9c5a-0a07ed84ed32",
   "metadata": {},
   "outputs": [],
   "source": [
    "'''Q1.What is Web Scraping? Why is it Used? Give three areas where Web Scraping is used to get data.\n",
    "Ans.Web scraping is the process of extracting data from websites by using automated tools or scripts. It involves retrieving information from web \n",
    "pages and converting it into a structured format, such as a spreadsheet or a database. Web scraping is commonly used to gather large amounts of data \n",
    "from different websites efficiently and quickly.\n",
    "\n",
    "Three areas where web scrapping is used-\n",
    "1.Business and Market Research\n",
    "2.E-commerce and Price Comparison\n",
    "3.Content Aggregation'''"
   ]
  },
  {
   "cell_type": "code",
   "execution_count": null,
   "id": "727326ed-b1c2-459e-945a-8eb1358900f6",
   "metadata": {},
   "outputs": [],
   "source": [
    "'''Q2.What are the different methods used for Web Scraping?\n",
    "Ans.Manual Scraping: This method involves manually copying and pasting data from web pages into a local file or spreadsheet. It is suitable for small-\n",
    "scale extraction tasks but becomes impractical for large amounts of data.\n",
    "\n",
    "Regular Expressions (Regex): Regular expressions are powerful patterns used to match and extract specific data from web pages.Regex can be combined\n",
    "with programming languages like Python to extract information based on patterns and structure.\n",
    "\n",
    "Web Scraping Libraries and Frameworks: Many programming languages offer specialized libraries and frameworks for web scraping. For example, Python has\n",
    "popular libraries like Beautiful Soup, Scrapy, and Selenium, which provide convenient and efficient ways to extract data from web pages.'''"
   ]
  },
  {
   "cell_type": "code",
   "execution_count": null,
   "id": "2ca4bbee-a068-49b4-9e4b-15fc8b328dc9",
   "metadata": {},
   "outputs": [],
   "source": [
    "'''Q3.What is Beautiful Soup? Why is it used?\n",
    "Ans. Beautiful Soup is a Python library commonly used for web scraping tasks. It provides a simple and intuitive interface for parsing HTML and XML \n",
    "documents. Beautiful Soup allows you to search, navigate, and manipulate the parsed data, making it easier to extract specific information from web \n",
    "pages.'''"
   ]
  },
  {
   "cell_type": "code",
   "execution_count": null,
   "id": "0356da83-8353-40ff-a5cc-25c95452a6b0",
   "metadata": {},
   "outputs": [],
   "source": [
    "'''Q4.Why is flask used in this Web Scraping project?\n",
    "Ans.Flask is a popular web framework in Python used for developing web applications. In the context of a web scraping project, Flask is often used to \n",
    "create a user interface or a web application that interacts with the scraped data.'''"
   ]
  },
  {
   "cell_type": "code",
   "execution_count": null,
   "id": "7fba6103-4b6c-4848-bb38-69ac3c6009d9",
   "metadata": {},
   "outputs": [],
   "source": [
    "'''Q5.Write the names of AWS services used in this project. Also, explain the use of each service.\n",
    "Ans.AWS service used in this project was AWS Elastic Beanstalk.\n",
    "Elastic Beanstalk is a platform-as-a-service (PaaS) offering by Amazon Web Services (AWS) that simplifies the deployment and management of applications in the cloud. It abstracts\n",
    "away the underlying infrastructure, allowing developers to focus on writing code rather than worrying about infrastructure management.'''"
   ]
  }
 ],
 "metadata": {
  "kernelspec": {
   "display_name": "Python 3 (ipykernel)",
   "language": "python",
   "name": "python3"
  },
  "language_info": {
   "codemirror_mode": {
    "name": "ipython",
    "version": 3
   },
   "file_extension": ".py",
   "mimetype": "text/x-python",
   "name": "python",
   "nbconvert_exporter": "python",
   "pygments_lexer": "ipython3",
   "version": "3.10.8"
  }
 },
 "nbformat": 4,
 "nbformat_minor": 5
}
